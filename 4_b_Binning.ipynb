{
 "cells": [
  {
   "cell_type": "code",
   "execution_count": 1,
   "id": "0c723ca4",
   "metadata": {},
   "outputs": [
    {
     "name": "stdout",
     "output_type": "stream",
     "text": [
      "[33 43 43 63 99 23 76 64 89 67 16 42 19 43  4 27  5 18 43 85]\n",
      "[3 4 4 6 9 2 7 6 8 6 1 4 1 4 0 2 0 1 4 8]\n",
      "[1 3 3 1 0 1 1 2 2 3 3 0 0 2 2 0]\n",
      "0.25      71.00\n",
      "0.50     896.50\n",
      "0.75    8049.75\n",
      "dtype: float64\n"
     ]
    }
   ],
   "source": [
    "import pandas as pd\n",
    "import numpy as np\n",
    "# Generate 20 random integers uniformly between 0 and 99\n",
    "small_counts = np.random.randint(0, 100, 20)\n",
    "print(small_counts)\n",
    "# Map to evenly spaced bins 0-9 by division\n",
    "print(np.floor_divide(small_counts, 10))\n",
    "large_counts = [296, 8286, 64011, 80, 3, 725, 867, 2215, 7689, 11495, 91897, 44, 28, 7971,\n",
    "926, 12]\n",
    "# print(np.floor(np.log10(large_counts)))\n",
    "#Map the counts to quartiles into 4 bins (quartile)\n",
    "print(pd.qcut(large_counts, 4, labels=False))\n",
    "#convert large_counts into series data\n",
    "large_counts_series = pd.Series(large_counts)\n",
    "# print(large_counts_series)\n",
    "print(large_counts_series.quantile([0.25, 0.5, 0.75]))"
   ]
  },
  {
   "cell_type": "code",
   "execution_count": null,
   "id": "c171b86d",
   "metadata": {},
   "outputs": [],
   "source": []
  }
 ],
 "metadata": {
  "kernelspec": {
   "display_name": "Python 3 (ipykernel)",
   "language": "python",
   "name": "python3"
  },
  "language_info": {
   "codemirror_mode": {
    "name": "ipython",
    "version": 3
   },
   "file_extension": ".py",
   "mimetype": "text/x-python",
   "name": "python",
   "nbconvert_exporter": "python",
   "pygments_lexer": "ipython3",
   "version": "3.9.7"
  }
 },
 "nbformat": 4,
 "nbformat_minor": 5
}
