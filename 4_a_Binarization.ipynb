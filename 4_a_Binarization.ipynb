{
 "cells": [
  {
   "cell_type": "code",
   "execution_count": 10,
   "id": "bf4781f0",
   "metadata": {},
   "outputs": [
    {
     "name": "stdout",
     "output_type": "stream",
     "text": [
      "\n",
      "Original age data values : \n",
      " [44 27 30 38 40 35 78 48 50 37]\n",
      "\n",
      "Original salary data values : \n",
      " [72000 48000 54000 61000  1000 58000 52000 79000 83000 67000]\n",
      "\n",
      "Binarized age : \n",
      " [[1 0 0 1 1 0 1 1 1 1]]\n",
      "\n",
      "Binarized salary : \n",
      " [[1 0 0 0 0 0 0 1 1 1]]\n"
     ]
    }
   ],
   "source": [
    "# Python code explaining how\n",
    "# to Binarize feature values\n",
    "  \n",
    "\"\"\" PART 1\n",
    "    Importing Libraries \"\"\"\n",
    "  \n",
    "import numpy as np\n",
    "import matplotlib.pyplot as plt\n",
    "import pandas as pd\n",
    " \n",
    "# Sklearn library\n",
    "from sklearn import preprocessing\n",
    " \n",
    "\"\"\" PART 2\n",
    "    Importing Data \"\"\"\n",
    "  \n",
    "data_set = pd.read_csv('binarizationDataset.csv')\n",
    "data_set.head()\n",
    " \n",
    "# here Features - Age and Salary columns\n",
    "# are taken using slicing\n",
    "# to binarize values\n",
    "age = data_set.iloc[:, 1].values\n",
    "salary = data_set.iloc[:, 2].values\n",
    "print (\"\\nOriginal age data values : \\n\",  age)\n",
    "print (\"\\nOriginal salary data values : \\n\",  salary)\n",
    " \n",
    "\"\"\" PART 4\n",
    "    Binarizing values \"\"\"\n",
    " \n",
    "from sklearn.preprocessing import Binarizer\n",
    " \n",
    "x = age\n",
    "x = x.reshape(1, -1)\n",
    "y = salary\n",
    "y = y.reshape(1, -1)\n",
    " \n",
    "# For age, let threshold be 35\n",
    "# For salary, let threshold be 61000\n",
    "binarizer_1 = Binarizer(threshold=35)\n",
    "binarizer_2 = Binarizer(threshold=61000)\n",
    " \n",
    "# Transformed feature\n",
    "print (\"\\nBinarized age : \\n\", binarizer_1.fit_transform(x))\n",
    " \n",
    "print (\"\\nBinarized salary : \\n\", binarizer_2.fit_transform(y))"
   ]
  },
  {
   "cell_type": "code",
   "execution_count": null,
   "id": "ce00d4ce",
   "metadata": {},
   "outputs": [],
   "source": []
  }
 ],
 "metadata": {
  "kernelspec": {
   "display_name": "Python 3 (ipykernel)",
   "language": "python",
   "name": "python3"
  },
  "language_info": {
   "codemirror_mode": {
    "name": "ipython",
    "version": 3
   },
   "file_extension": ".py",
   "mimetype": "text/x-python",
   "name": "python",
   "nbconvert_exporter": "python",
   "pygments_lexer": "ipython3",
   "version": "3.9.7"
  }
 },
 "nbformat": 4,
 "nbformat_minor": 5
}
